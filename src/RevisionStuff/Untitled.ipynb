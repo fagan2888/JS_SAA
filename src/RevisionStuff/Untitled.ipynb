{
 "cells": [
  {
   "cell_type": "code",
   "execution_count": 2,
   "metadata": {
    "collapsed": false
   },
   "outputs": [
    {
     "name": "stderr",
     "output_type": "stream",
     "text": [
      "WARNING: replacing module JS.\n"
     ]
    }
   ],
   "source": [
    "using Distributions, PyPlot, Random, LinearAlgebra, DelimitedFiles\n",
    "include(\"../JS_SAA_main.jl\")\n",
    "include(\"PP_helpers.jl\")\n",
    "\n",
    "const seed = 8675309 \n",
    "const K = 100  #VG up this to 10000\n",
    "const d = 10\n",
    "const alpha0 = 10\n",
    "const N = 10\n",
    "const s = .85\n",
    "const sigma = 0."
   ]
  },
  {
   "cell_type": "code",
   "execution_count": 7,
   "metadata": {
    "collapsed": false
   },
   "outputs": [
    {
     "data": {
      "text/plain": [
       "10×2 Array{Float64,2}:\n",
       " 0.114268   0.297066\n",
       " 0.0989241  0.284766\n",
       " 0.0426199  0.195622\n",
       " 0.0934555  0.267745\n",
       " 0.112698   0.291824\n",
       " 0.131436   0.323483\n",
       " 0.109494   0.279837\n",
       " 0.0828828  0.248835\n",
       " 0.113767   0.297094\n",
       " 0.100455   0.277823"
      ]
     },
     "execution_count": 7,
     "metadata": {},
     "output_type": "execute_result"
    }
   ],
   "source": [
    "Random.seed!(seed);\n",
    "\n",
    "Xs = 10*randn(d, K) #Features are Gaussian\n",
    "noise = sigma * randn(d, K)\n",
    "\n",
    "p0s = zeros(d, K)\n",
    "for ix = 1:K\n",
    "    p0s[:, ix] .= exp.(Xs[:, ix] + noise[:, ix]) / sum( exp.(Xs[:, ix] + noise[:, ix]) )\n",
    "end\n",
    "\n",
    "p0_avg = mean(p0s, dims=2)\n",
    "p0_std = std(p0s, dims=2)\n",
    "[p0_avg p0_std]\n",
    "\n"
   ]
  },
  {
   "cell_type": "code",
   "execution_count": 8,
   "metadata": {
    "collapsed": false
   },
   "outputs": [
    {
     "data": {
      "text/plain": [
       "10×100 Array{Float64,2}:\n",
       " 7.11479e-11  0.995868     1.68888e-7   …  2.18958e-15  3.42422e-13\n",
       " 8.53604e-10  4.58862e-7   6.97604e-7      4.30695e-11  1.26631e-6 \n",
       " 0.00105647   1.48911e-9   5.1545e-5       0.00397024   2.18296e-14\n",
       " 0.993165     0.00413031   0.943532        0.126157     6.23218e-11\n",
       " 3.18626e-5   3.31629e-17  1.97728e-9      9.71073e-5   2.86465e-17\n",
       " 1.86008e-10  9.32679e-11  0.0563941    …  0.869557     0.741811   \n",
       " 2.85899e-8   1.69499e-13  2.16013e-5      7.2593e-13   7.68582e-6 \n",
       " 0.00569933   1.74633e-9   9.11871e-10     2.90342e-8   0.25818    \n",
       " 4.70808e-5   8.72019e-7   5.00085e-8      0.000218519  3.96326e-14\n",
       " 4.39973e-16  9.17795e-10  1.56551e-10     8.52452e-9   1.50643e-9 "
      ]
     },
     "execution_count": 8,
     "metadata": {},
     "output_type": "execute_result"
    }
   ],
   "source": [
    "p0s"
   ]
  },
  {
   "cell_type": "code",
   "execution_count": null,
   "metadata": {
    "collapsed": true
   },
   "outputs": [],
   "source": []
  }
 ],
 "metadata": {
  "kernelspec": {
   "display_name": "Julia 0.7.0",
   "language": "julia",
   "name": "julia-0.7"
  },
  "language_info": {
   "file_extension": ".jl",
   "mimetype": "application/julia",
   "name": "julia",
   "version": "0.7.0"
  }
 },
 "nbformat": 4,
 "nbformat_minor": 0
}
