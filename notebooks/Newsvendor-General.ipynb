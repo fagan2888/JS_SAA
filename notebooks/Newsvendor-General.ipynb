{
 "cells": [
  {
   "cell_type": "code",
   "execution_count": 18,
   "metadata": {
    "collapsed": false
   },
   "outputs": [
    {
     "name": "stderr",
     "output_type": "stream",
     "text": [
      "WARNING: replacing module JS.\n"
     ]
    },
    {
     "data": {
      "text/plain": [
       "Plots.PyPlotBackend()"
      ]
     },
     "execution_count": 18,
     "metadata": {},
     "output_type": "execute_result"
    }
   ],
   "source": [
    "using Distributions, Plots, Random\n",
    "include(\"../src/JS_SAA_main.jl\")\n",
    "pyplot()"
   ]
  },
  {
   "cell_type": "code",
   "execution_count": 19,
   "metadata": {
    "collapsed": false
   },
   "outputs": [],
   "source": [
    "#discrete newsvendors supported 1:d\n",
    "K = 10000\n",
    "s = .91\n",
    "d = 75\n",
    "N = 10\n",
    "\n",
    "Random.seed!(8675309)\n",
    "ps = rand(Dirichlet(ones(d)), floor(Int, K/2))\n",
    "ps = [ps rand(Dirichlet(.025 * ones(d)), K - floor(Int, K/2)) ]\n",
    "\n",
    "# #gen an \"interesting\" distribution of ps still centered at 1/d\n",
    "# ps = rand(Dirichlet(5 * ones(d)), floor(Int, K/2))\n",
    "# qs = rand(Dirichlet(5 * ones(d)), K-floor(Int, K/2))\n",
    "\n",
    "# qanchor = vcat(.9 * [.2, .2, .2, .2, .2], .1 * ones(d-5)/(d-5))\n",
    "# qs = rand(Dirichlet(qanchor),  K - floor(Int, K/2)) \n",
    "\n",
    "# ps = [ps qs]\n",
    "\n",
    "alpha_grid = range(0, stop=3N, length=100)\n",
    "lams = ones(K)\n",
    "\n",
    "\n",
    "Nhats = rand(Poisson(N), K)\n",
    "mhats = JS.sim_path(ps, Nhats);\n",
    "\n",
    "p0 = JS.get_GM_anchor(mhats)\n",
    "supps =  repeat(collect(1:d), outer=(1, K))\n",
    "cs, xs = JS.genNewsvendorsDiffSupp(supps, s, K);"
   ]
  },
  {
   "cell_type": "code",
   "execution_count": 31,
   "metadata": {
    "collapsed": false
   },
   "outputs": [
    {
     "name": "stdout",
     "output_type": "stream",
     "text": [
      " 59.005494 seconds (1.24 G allocations: 70.959 GiB, 25.10% gc time)\n"
     ]
    }
   ],
   "source": [
    "alpha_grid = range(0, stop=30, length=100)\n",
    "# @time alphaOR, jstar, outOR = JS.oracle_alpha(xs, cs, mhats, ps, ones(K), p0, alpha_grid)\n",
    "# @time alphaLOO, jstar, outLOO = JS.loo_alpha(xs, cs, mhats, p0, alpha_grid)\n",
    "# @time outSAA = map(a->JS.zbar(xs, cs,mhats, mhats ./ Nhats', ones(K),  (p0, a)), alpha_grid);\n",
    "@time alphaCV, jstar, outCV = JS.cv_alpha(xs, cs, mhats, p0, alpha_grid, 5)\n",
    "# @time full_info = JS.zstar(xs, cs, ps, ones(K));"
   ]
  },
  {
   "cell_type": "code",
   "execution_count": null,
   "metadata": {
    "collapsed": false
   },
   "outputs": [],
   "source": [
    "# println(\"SAA:\\t\", outOR[1], \"\\t\", outOR[1] / full_info - 1)\n",
    "# println(\"LOO:\\t\", outOR[argmin(outLOO)], \"\\t\", outOR[argmin(outLOO)]/full_info - 1)\n",
    "# println(\"OR:\\t\", minimum(outOR), \"\\t\", minimum(outOR)/full_info - 1)\n",
    "plot(alpha_grid, [outOR outLOO/N outCV/N], label=[\"Oracle\" \"LOO\" \"CV\"], marker=:circ)\n"
   ]
  },
  {
   "cell_type": "code",
   "execution_count": null,
   "metadata": {
    "collapsed": false
   },
   "outputs": [],
   "source": [
    "### Sanity Checks.  \n",
    "#  ###Check that xs(alpha) actually minimizes p(\\alpha)^T c(alpha)\n",
    "#  # spot check zLOO(alpha) and ZOR(alpha) against other implementation\n",
    "#  # do a run for large K.\n",
    "#  #check that oracle value minimized at bayesian value = 2\n",
    "#  #do a curve by curve spot check\n",
    "k0 = 15\n",
    "alpha0 = 0\n",
    "palpha_k = JS.shrink(mhats[:, k0]/Nhats[k0], p0, alpha0, Nhats[k0])\n",
    "xalpha_k = xs[k0](p0, alpha0, mhats[:, k0])\n",
    "\n",
    "println(\"palpha_k:\\t\", palpha_k)\n",
    "println(\"x_alphak:\\t\", xalpha_k)\n",
    "\n",
    "dot(palpha_k, map(c_ik -> c_ik(9), cs[:, k0])), dot(palpha_k, map(c_ik -> c_ik(10), cs[:, k0]))\n",
    "\n",
    "\n",
    "# alpha = 2\n",
    "# palphas = similar(ps)\n",
    "# for k = 1:K\n",
    "#     palphas[:, k] = JS.shrink(mhats[:, k]/Nhats[k], p0, alpha, Nhats[k])\n",
    "# end\n",
    "\n",
    "JS.zbar(xs, cs, p0, 2, mhats, ps, ones(K))"
   ]
  },
  {
   "cell_type": "code",
   "execution_count": null,
   "metadata": {
    "collapsed": false
   },
   "outputs": [],
   "source": [
    "### Sanity Checks.  \n",
    "#  # spot check zLOO(alpha) and ZOR(alpha) against other implementation\n",
    "#  # do a run for large K.\n",
    "#  #check that oracle value minimized at bayesian value = 2\n",
    "#  #do a curve by curve spot check\n",
    "\n",
    "#JS.zbar(xs, cs, 1.515, mhats, ps, ones(K)) \n",
    "JS.zLOObar_unsc(xs, cs, p0, 0.44717265850424653, mhats)"
   ]
  },
  {
   "cell_type": "code",
   "execution_count": null,
   "metadata": {
    "collapsed": false
   },
   "outputs": [],
   "source": [
    "JS.mse_estimates(mhats, collect(1:d), p0, alpha_grid)"
   ]
  },
  {
   "cell_type": "code",
   "execution_count": null,
   "metadata": {
    "collapsed": false
   },
   "outputs": [],
   "source": [
    "println( alpha_grid[indmin(outOR)], \"\\t\",  alpha_grid[indmin(outLOO)] )\n",
    "println(minimum(outOR), \"\\t\", outOR[indmin(outLOO)]/minimum(outOR), \"\\t\", outOR[21]/minimum(outOR))\n"
   ]
  },
  {
   "cell_type": "markdown",
   "metadata": {
    "collapsed": false
   },
   "source": [
    "### Implementing Cross-Validation"
   ]
  },
  {
   "cell_type": "code",
   "execution_count": 15,
   "metadata": {
    "collapsed": false
   },
   "outputs": [
    {
     "name": "stderr",
     "output_type": "stream",
     "text": [
      "WARNING: replacing module JS.\n"
     ]
    },
    {
     "data": {
      "text/plain": [
       "Plots.PyPlotBackend()"
      ]
     },
     "execution_count": 15,
     "metadata": {},
     "output_type": "execute_result"
    }
   ],
   "source": [
    "using Distributions, Plots, Random\n",
    "include(\"../src/JS_SAA_main.jl\")\n",
    "pyplot()"
   ]
  },
  {
   "cell_type": "code",
   "execution_count": 16,
   "metadata": {
    "collapsed": false
   },
   "outputs": [],
   "source": [
    "K = 20\n",
    "d = 11\n",
    "N = 7\n",
    "Random.seed!(8675309)\n",
    "\n",
    "#gen an \"interesting\" distribution of ps still centered at 1/d\n",
    "p0 = ones(d)/d\n",
    "ps = rand(Dirichlet(ones(d)), K)\n",
    "Nhats = rand(Poisson(N), K)\n",
    "mhats = JS.sim_path(ps, Nhats);"
   ]
  },
  {
   "cell_type": "code",
   "execution_count": null,
   "metadata": {
    "collapsed": false
   },
   "outputs": [],
   "source": [
    "@time cv_data = split_cv(mhats, 5)\n",
    "\n",
    "[minimum(sum(cv_data[fold], dims=1)) for fold = 1:5]\n"
   ]
  },
  {
   "cell_type": "code",
   "execution_count": null,
   "metadata": {
    "collapsed": false
   },
   "outputs": [],
   "source": [
    "fold = 5\n",
    "train_data = sum(cv_data[setdiff(1:5, fold)])\n",
    "test_Nhats = sum(cv_data[fold], dims=1)\n",
    "Nhat_filt = vec(test_Nhats .> 0)\n",
    "test_phat = zero(cv_data[fold])\n",
    "test_phat[:, Nhat_filt] = cv_data[fold][:, Nhat_filt] ./ transpose(test_Nhats[Nhat_filt])\n",
    "\n",
    "findall(sum(test_phat, dims=1) .< 1)\n",
    "test_Nhats[13:15]\n"
   ]
  },
  {
   "cell_type": "code",
   "execution_count": null,
   "metadata": {
    "collapsed": false
   },
   "outputs": [],
   "source": [
    "ones(10)"
   ]
  },
  {
   "cell_type": "code",
   "execution_count": null,
   "metadata": {
    "collapsed": true
   },
   "outputs": [],
   "source": []
  }
 ],
 "metadata": {
  "kernelspec": {
   "display_name": "Julia 0.7.0",
   "language": "julia",
   "name": "julia-0.7"
  },
  "language_info": {
   "file_extension": ".jl",
   "mimetype": "application/julia",
   "name": "julia",
   "version": "0.7.0"
  }
 },
 "nbformat": 4,
 "nbformat_minor": 0
}
